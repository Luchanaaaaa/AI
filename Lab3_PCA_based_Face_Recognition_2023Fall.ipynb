{
  "nbformat": 4,
  "nbformat_minor": 0,
  "metadata": {
    "colab": {
      "provenance": [],
      "include_colab_link": true
    },
    "kernelspec": {
      "name": "python3",
      "display_name": "Python 3"
    },
    "language_info": {
      "name": "python"
    }
  },
  "cells": [
    {
      "cell_type": "markdown",
      "metadata": {
        "id": "view-in-github",
        "colab_type": "text"
      },
      "source": [
        "<a href=\"https://colab.research.google.com/github/Luchanaaaaa/AI/blob/main/Lab3_PCA_based_Face_Recognition_2023Fall.ipynb\" target=\"_parent\"><img src=\"https://colab.research.google.com/assets/colab-badge.svg\" alt=\"Open In Colab\"/></a>"
      ]
    },
    {
      "cell_type": "markdown",
      "source": [
        "# Lab 3 PCA-based Face Recognition"
      ],
      "metadata": {
        "id": "0b-eNZe5VFGe"
      }
    },
    {
      "cell_type": "markdown",
      "source": [
        "For all of the following, program the solution yourself. Don't just call a library function that does the whole question for you, or you'll get zero (no, that doesn't mean you can't use any library functions, but it does mean that you have to show you understand how to compute the answer yourself).\n"
      ],
      "metadata": {
        "id": "TtVkYfWpt2dW"
      }
    },
    {
      "cell_type": "markdown",
      "source": [
        "\n",
        "**Copy your Colab link here:**"
      ],
      "metadata": {
        "id": "FLh6L1OPFE8S"
      }
    },
    {
      "cell_type": "markdown",
      "source": [
        "Import package here"
      ],
      "metadata": {
        "id": "uF_U40mdwaec"
      }
    },
    {
      "cell_type": "code",
      "source": [
        "import numpy as np\n",
        "import matplotlib.pyplot as plt"
      ],
      "metadata": {
        "id": "ZcAEYbvQwW6l"
      },
      "execution_count": null,
      "outputs": []
    },
    {
      "cell_type": "markdown",
      "source": [
        "**Step 0. Moving the lab to your folder as well as copy and paste a shared link here**\n",
        "\n",
        "Duplicate this notebook (as you won't have write permission to this) to your Google Drive.\n",
        "This can be done by clicking on *File Menu - Save a copy in Drive*"
      ],
      "metadata": {
        "id": "5X6v_biRvodF"
      }
    },
    {
      "cell_type": "markdown",
      "source": [
        "**Shared link:**"
      ],
      "metadata": {
        "id": "O1BL6A64A733"
      }
    },
    {
      "cell_type": "markdown",
      "source": [
        "Run to mount your google drives:"
      ],
      "metadata": {
        "id": "w1sNkFG_vCDw"
      }
    },
    {
      "cell_type": "code",
      "source": [
        "from google.colab import drive\n",
        "drive.mount('/content/drive')"
      ],
      "metadata": {
        "colab": {
          "base_uri": "https://localhost:8080/"
        },
        "id": "4xJPY5hUvaPe",
        "outputId": "7fdf8dc7-889b-4433-bd0f-870685eef603"
      },
      "execution_count": null,
      "outputs": [
        {
          "output_type": "stream",
          "name": "stdout",
          "text": [
            "Mounted at /content/drive\n"
          ]
        }
      ]
    },
    {
      "cell_type": "markdown",
      "source": [
        "Your drive would be accessed as '/content/drive/MyDrive' for Colab. You may need to put your data and creating a 'results' folder somewhere in the drive. The 'results' folder could be used for storing the required outputs.   "
      ],
      "metadata": {
        "id": "4oIwcVqmw7R9"
      }
    },
    {
      "cell_type": "code",
      "source": [
        "# example goes like:\n",
        "DataPath  = '/content/drive/MyDrive/YOUR_PATH_HERE'\n",
        "ResultPath = '/content/drive/MyDrive/YOUR_PATH_HERE/results'"
      ],
      "metadata": {
        "id": "iFFiAi4iyG2f"
      },
      "execution_count": null,
      "outputs": []
    },
    {
      "cell_type": "markdown",
      "source": [
        "**Step 1: Load the training data**\n",
        "\n",
        "Read all the training images, reshape them into a vector and store them into the columns of a 10304x360 matrix where 360 is the total number of images and 10304 (=112*92) is the dimension of the vectors.\n"
      ],
      "metadata": {
        "id": "KeOZoG43DDPp"
      }
    },
    {
      "cell_type": "code",
      "execution_count": null,
      "metadata": {
        "id": "W3ZniNdYuDsO"
      },
      "outputs": [],
      "source": [
        "# Your code goes here\n"
      ]
    },
    {
      "cell_type": "markdown",
      "source": [
        "**Step 2: Perform PCA to extract the eigen-faces**\n",
        "\n",
        "1. Center the data\n",
        "2. Compute the correlation matrix\n",
        "3. Use either the SVD or eig function from numpy.linalg to perform SVD/eigen-decomposition and get the eigenvectors and eigenvalues of the correlation matrix.\n",
        "4. Normalize the eigenvectors by their L2 norm if necessary.\n",
        "\n"
      ],
      "metadata": {
        "id": "AvTf_8dlJkzJ"
      }
    },
    {
      "cell_type": "code",
      "source": [
        "# Your code goes here\n"
      ],
      "metadata": {
        "id": "VU9XgdTEJuwo"
      },
      "execution_count": null,
      "outputs": []
    },
    {
      "cell_type": "markdown",
      "source": [
        "**Step 3: Plot the eigenvalues**\n",
        "\n",
        "Sort the eigenvectors and eigenvalues in descending order. Then plot the eigenvalues.\n",
        "\n"
      ],
      "metadata": {
        "id": "bnlFmulhJvSX"
      }
    },
    {
      "cell_type": "code",
      "source": [
        "# Your code goes here"
      ],
      "metadata": {
        "id": "I3SE5nwsJ5fX"
      },
      "execution_count": null,
      "outputs": []
    },
    {
      "cell_type": "markdown",
      "source": [
        "**Step 4: Plot the first 3 eigenfaces and the last eigenface**\n",
        "\n",
        "Remember that the images were mean-normalized and reshaped into vectors. So to plot the eigenvalues, you have to undo these steps."
      ],
      "metadata": {
        "id": "cqF461eizXXX"
      }
    },
    {
      "cell_type": "code",
      "source": [
        "# Your code goes here"
      ],
      "metadata": {
        "id": "AuOE_q0gss3j"
      },
      "execution_count": null,
      "outputs": []
    },
    {
      "cell_type": "markdown",
      "source": [
        "**Step 5: Pick a face and reconstruct it using $k = {10, 20, 30, 40, 100, 200, 300}$ eigenvectors.**\n",
        "\n",
        "Plot all of these reconstructions and compare them. For each value of $k$, plot the original image, reconstructed image, and the difference between the original image and reconstruction in each case. Write your observations."
      ],
      "metadata": {
        "id": "uzNeSZfesg4D"
      }
    },
    {
      "cell_type": "code",
      "source": [
        "# Your code goes here"
      ],
      "metadata": {
        "id": "22qH-7-9zxct"
      },
      "execution_count": null,
      "outputs": []
    },
    {
      "cell_type": "markdown",
      "source": [
        "**Step 6: Load the testing data, and reshape it similar to the training data.**\n",
        "\n"
      ],
      "metadata": {
        "id": "11iHPFDotPPk"
      }
    },
    {
      "cell_type": "code",
      "source": [
        "# Your code goes here"
      ],
      "metadata": {
        "id": "kj_DZSjntWi5"
      },
      "execution_count": null,
      "outputs": []
    },
    {
      "cell_type": "markdown",
      "source": [
        "**Step 7: For each photograph in the testing dataset, predict the identity of the person.**\n",
        "\n",
        "You will implement a classifier to do this following these steps -\n",
        "\n",
        "1. Determine the projection of each test photo onto different number of eigenfaces- $d = {10, 20, 30, 40}$\n",
        "2. Compare the distance of this projection to the projections of all images in the training data .\n",
        "3. For each test photo's projection, find the closest category of projection in the training data.\n",
        "4. Calculate and print the accuracy for different $d$\n"
      ],
      "metadata": {
        "id": "B3qUPoigtX-D"
      }
    },
    {
      "cell_type": "code",
      "source": [
        "# Your code goes here"
      ],
      "metadata": {
        "id": "Es-zRd4JuMU1"
      },
      "execution_count": null,
      "outputs": []
    },
    {
      "cell_type": "markdown",
      "source": [
        "**Step 8: Show the closest image in the training dataset for the $s_1$ test example.**\n"
      ],
      "metadata": {
        "id": "7cybnv3UuNjR"
      }
    },
    {
      "cell_type": "code",
      "source": [
        "# Your code goes here"
      ],
      "metadata": {
        "id": "UhA0PCMjuZ-4"
      },
      "execution_count": null,
      "outputs": []
    },
    {
      "cell_type": "markdown",
      "source": [
        "\n",
        "**Step 9: Apply your PCA algorithm to dataset of images of Pokemon sprites called pokemon.csv.**\n",
        "\n",
        "Load the dataset from the file ``pokemon.csv`` using ``np.loadtxt``. The datafile represents a 2d array where each row is a 64 by 64 pixel greyscale picture. The entries are floats between 0 and 1, where 0 is white and 1 is black.\n",
        "\n",
        "Note that while the images are 64 by 64 entries, the dataset you load has rows of size 4096 (which is $64\\times 64$) to allow the data to be saved as a 2D array."
      ],
      "metadata": {
        "id": "UBMFO4YcLxHx"
      }
    },
    {
      "cell_type": "markdown",
      "metadata": {
        "id": "oaZXcdwOMvXM"
      },
      "source": [
        "---\n",
        "\n",
        "**(a):** Combine your previous steps into one pca function as required below. Your function should take the data matrix and the number of components you wish to calculate and return two matrices:\n",
        "1. The projection of the data onto the principal components\n",
        "2. The actual components (eigenvectors) themselves.\n",
        "\n",
        "\n",
        "---\n",
        "\n"
      ]
    },
    {
      "cell_type": "code",
      "source": [
        "# add and remove code and markdown cells as appropriate\n",
        "def pca(X, n_pc=2):\n",
        "    \"\"\"Returns the projection onto the principal components (default=2)\"\"\"\n",
        "\n",
        "    return projected, components"
      ],
      "metadata": {
        "id": "M4a5TVnPRsfK"
      },
      "execution_count": null,
      "outputs": []
    },
    {
      "cell_type": "markdown",
      "metadata": {
        "id": "OrEHR9jFMvXN"
      },
      "source": [
        "## Eigen-pokemon\n",
        "\n",
        "If we perform PCA on a dataset, we expect the principal components to lie in the neighbourhood of our datapoints. In particular, if we do this on a dataset of images, we can interpret the principal components as images.\n",
        "\n",
        "The following function plots a gallery of images."
      ]
    },
    {
      "cell_type": "code",
      "execution_count": null,
      "metadata": {
        "id": "pKrXCj9qMvXN"
      },
      "outputs": [],
      "source": [
        "# Visualising images\n",
        "def plot_gallery(images, titles, h, w, n_row=2, n_col=6):\n",
        "    \"\"\"Helper function to plot a gallery of portraits.\n",
        "    Arguments: images: a matrix where each row is an image.\n",
        "    titles: an array of labels for each image.\n",
        "    h: the height in pixels of each image.\n",
        "    w: the width in pixels of each image.\n",
        "    n_row: the number of rows of images to print.\n",
        "    n_col: the number of columns of images to print.\"\"\"\n",
        "    assert len(images) >= n_row * n_col\n",
        "    assert len(titles) >= n_row * n_col\n",
        "    plt.figure(figsize=(1.8 * n_col, 2.4 * n_row))\n",
        "    plt.subplots_adjust(bottom=0, left=.01, right=.99, top=.90, hspace=.35)\n",
        "    for i in range(n_row * n_col):\n",
        "        plt.subplot(n_row, n_col, i + 1)\n",
        "        plt.imshow(images[i].reshape((h, w)), cmap=plt.cm.gray)\n",
        "        plt.title(titles[i], size=12)\n",
        "        plt.xticks(())\n",
        "        plt.yticks(())\n",
        "    plt.show()"
      ]
    },
    {
      "cell_type": "markdown",
      "metadata": {
        "id": "VNgP9icJMvXN"
      },
      "source": [
        "---\n",
        "\n",
        "**(b):** Use ``plot_gallery`` to plot the first 30 pokemon images.\n",
        "\n",
        "---"
      ]
    },
    {
      "cell_type": "code",
      "execution_count": null,
      "metadata": {
        "id": "XXRk_770MvXN"
      },
      "outputs": [],
      "source": [
        "# replace this with your solution, add and remove code and markdown cells as appropriate\n"
      ]
    },
    {
      "cell_type": "markdown",
      "metadata": {
        "id": "eWMkDvohMvXN"
      },
      "source": [
        "\n",
        "---\n",
        "\n",
        "**(c):**\n",
        "\n",
        "- Perform PCA on the Pokemon dataset to find the first 200 principal components. Visualise the first 200 using ``plot_gallery``.\n",
        "- Plot the associated eigenvalues with the kth principle component. How can you interpret these?\n",
        "- Q&A: What do you notice about the first few principal components? What are they detecting?\n",
        "---\n",
        "\n",
        "\n",
        "\n"
      ]
    },
    {
      "cell_type": "code",
      "execution_count": null,
      "metadata": {
        "id": "e4s5ipMhMvXN"
      },
      "outputs": [],
      "source": [
        "# Perform PCA on the Pokemon dataset to find the first 200 principal components. Visualise the first 200 using ``plot_gallery``."
      ]
    },
    {
      "cell_type": "code",
      "execution_count": null,
      "metadata": {
        "id": "m26l6F7KMvXN"
      },
      "outputs": [],
      "source": [
        "# Plot the associated eigenvalues with the kth principle component. How can you interpret these?\n",
        "\n",
        "\n"
      ]
    },
    {
      "cell_type": "markdown",
      "metadata": {
        "id": "fH7c-tcpMvXN"
      },
      "source": [
        "### <span style=\"color:blue\">Answer</span>\n",
        "<i>--- replace this with your solution, add and remove code and markdown cells as appropriate ---</i>"
      ]
    },
    {
      "cell_type": "markdown",
      "metadata": {
        "id": "Xeak2xw_MvXN"
      },
      "source": []
    },
    {
      "cell_type": "markdown",
      "metadata": {
        "id": "jFC8xlt6MvXO"
      },
      "source": []
    },
    {
      "cell_type": "markdown",
      "metadata": {
        "id": "YFFuSd_mMvXO"
      },
      "source": [
        "---\n",
        "\n",
        "**(d):** Reconstructing images using PCA. Plot the reconstructions of the first 30 images using 200 principal components, and using the first 15 principal components. Compare and comment on how good are these reconstructions.\n",
        "\n",
        "---\n",
        "\n",
        "\n"
      ]
    },
    {
      "cell_type": "code",
      "execution_count": null,
      "metadata": {
        "id": "rCwjdDVlMvXO"
      },
      "outputs": [],
      "source": [
        "# replace this with your solution, add and remove code and markdown cells as appropriate\n",
        "\n",
        "n_pc = 200\n",
        "# original images\n",
        "\n",
        "\n",
        "# reconstructed images\n"
      ]
    },
    {
      "cell_type": "code",
      "execution_count": null,
      "metadata": {
        "id": "BdhAhmp4MvXO"
      },
      "outputs": [],
      "source": [
        "# Solution\n",
        "# replace this with your solution, add and remove code and markdown cells as appropriate\n",
        "\n",
        "n_pc = 15\n",
        "# original images\n",
        "\n",
        "\n",
        "# reconstructed images\n"
      ]
    },
    {
      "cell_type": "markdown",
      "metadata": {
        "id": "BSDknjROMvXO"
      },
      "source": [
        "Comment and compare"
      ]
    },
    {
      "cell_type": "markdown",
      "source": [
        "---\n",
        "\n",
        "**(e) Class specificity:** Compose the $s_1$ test example from Eigen Pokemons. With Eigen Pokemons base k=10, 30, 100, 200.\n",
        "\n",
        "Observe and comment on the performance of this operation and explain why this happened?\n",
        "\n",
        "Hint: since the dimension of human face (112x92) is different from pokemon image (64x64). Please first crop the human face image to (64x64) from the center of the image.\n",
        "\n",
        "---\n",
        "\n"
      ],
      "metadata": {
        "id": "gDN_I-9XTCTU"
      }
    },
    {
      "cell_type": "code",
      "source": [
        "# Your code goes here"
      ],
      "metadata": {
        "id": "tTKBQ4vfTCTV"
      },
      "execution_count": null,
      "outputs": []
    },
    {
      "cell_type": "markdown",
      "source": [
        "**You are ready to submit in Canvas!**\n",
        "\n",
        "4 easy steps to submit your lab:\n",
        "\n",
        "1.   Go to \"File\" - Download both \".ipynb\" and \".py\"\n",
        "2.   Click on \"Share\" option on top right - Click on \"copy link\" option. Make sure your permission is set to \"Anyone on the internet with this link can view\"\n",
        "3.   Upload both \".ipynb\" and \".py\" file obtained from Step (1) with your 'results' folder to Canvas. If it is too big, zip it before uploading.\n",
        "4.   In the text comments on Canvas, paste the link obtained from Step (3).\n",
        "\n",
        "That's it!\n",
        "\n",
        "In short, we want to have one link, one .ipynb, one .py file and one 'Lab3_yourJHID.zip' containing all the required outputs.\n",
        "\n",
        "Please suffix your colab file and the zip file with your _jhID, eg: Lab3_myjhID12\n"
      ],
      "metadata": {
        "id": "a4beYyaeCvvP"
      }
    }
  ]
}